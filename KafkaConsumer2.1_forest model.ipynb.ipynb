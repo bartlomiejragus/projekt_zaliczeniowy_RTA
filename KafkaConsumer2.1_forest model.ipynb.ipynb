{
 "cells": [
  {
   "cell_type": "code",
   "execution_count": 3,
   "id": "20977b55-5893-47d8-bdfe-b08436c54e18",
   "metadata": {},
   "outputs": [
    {
     "name": "stdout",
     "output_type": "stream",
     "text": [
      "    branch  energy_usage                   timestamp\n",
      "0  Branch1        293.49  2024-05-27 19:06:47.413614\n",
      "1  Branch2        253.62  2024-05-27 19:06:47.413650\n",
      "2  Branch3        405.98  2024-05-27 19:06:47.413660\n",
      "3  Branch4        210.59  2024-05-27 19:06:47.413667\n",
      "4  Branch5        293.97  2024-05-27 19:06:47.413677\n"
     ]
    }
   ],
   "source": [
    "import random\n",
    "from datetime import datetime\n",
    "import numpy as np\n",
    "import pandas as pd\n",
    "from sklearn.ensemble import IsolationForest\n",
    "import joblib\n",
    "\n",
    "# Generowanie danych\n",
    "branches = ['Branch1', 'Branch2', 'Branch3', 'Branch4', 'Branch5']\n",
    "data = []\n",
    "\n",
    "for _ in range(100):  # 100 odczytów dla każdej gałęzi\n",
    "    for branch in branches:\n",
    "        energy_usage = round(random.uniform(50.0, 500.0), 2)\n",
    "        timestamp = str(datetime.utcnow())\n",
    "        data.append({'branch': branch, 'energy_usage': energy_usage, 'timestamp': timestamp})\n",
    "\n",
    "df = pd.DataFrame(data)\n",
    "\n",
    "# Wyświetlenie przykładowych danych\n",
    "print(df.head())"
   ]
  },
  {
   "cell_type": "code",
   "execution_count": 4,
   "id": "561de585-6c9d-436b-8491-bea4c3f315ec",
   "metadata": {},
   "outputs": [
    {
     "name": "stdout",
     "output_type": "stream",
     "text": [
      "Model for Branch1 trained and saved.\n",
      "Model for Branch2 trained and saved.\n",
      "Model for Branch3 trained and saved.\n",
      "Model for Branch4 trained and saved.\n",
      "Model for Branch5 trained and saved.\n"
     ]
    }
   ],
   "source": [
    "# Grupowanie danych po gałęziach\n",
    "branch_data = df.groupby('branch')\n",
    "\n",
    "models = {}\n",
    "for branch, group in branch_data:\n",
    "    clf = IsolationForest(n_estimators=100, contamination=0.1)\n",
    "    clf.fit(group['energy_usage'].values.reshape(-1, 1))\n",
    "    models[branch] = clf\n",
    "    joblib.dump(clf, f'isolation_forest_{branch}.joblib')  # Zapisywanie modelu\n",
    "\n",
    "    print(f'Model for {branch} trained and saved.')"
   ]
  },
  {
   "cell_type": "code",
   "execution_count": 6,
   "id": "d0eaca0f-7bc9-4672-b023-1c3bc4d97646",
   "metadata": {},
   "outputs": [
    {
     "name": "stdout",
     "output_type": "stream",
     "text": [
      "Predictions for Branch1: [ 1 -1 -1  1 -1  1  1  1  1  1]\n",
      "Predictions for Branch2: [ 1  1  1  1  1  1 -1  1  1  1]\n",
      "Predictions for Branch3: [-1  1  1  1  1  1  1  1  1 -1]\n",
      "Predictions for Branch4: [ 1  1  1  1 -1  1  1  1 -1  1]\n",
      "Predictions for Branch5: [ 1  1 -1  1  1  1  1  1  1  1]\n"
     ]
    }
   ],
   "source": [
    "# Załadowanie i testowanie modelu\n",
    "for branch in branches:\n",
    "    model = joblib.load(f'isolation_forest_{branch}.joblib')\n",
    "    # Przykładowe dane do testowania\n",
    "    test_data = np.array([random.uniform(50.0, 500.0) for _ in range(10)]).reshape(-1, 1)\n",
    "    preds = model.predict(test_data)\n",
    "    print(f\"Predictions for {branch}: {preds}\")"
   ]
  }
 ],
 "metadata": {
  "kernelspec": {
   "display_name": "Python 3 (ipykernel)",
   "language": "python",
   "name": "python3"
  },
  "language_info": {
   "codemirror_mode": {
    "name": "ipython",
    "version": 3
   },
   "file_extension": ".py",
   "mimetype": "text/x-python",
   "name": "python",
   "nbconvert_exporter": "python",
   "pygments_lexer": "ipython3",
   "version": "3.11.5"
  }
 },
 "nbformat": 4,
 "nbformat_minor": 5
}
